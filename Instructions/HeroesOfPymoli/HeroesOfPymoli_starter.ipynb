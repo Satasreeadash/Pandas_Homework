{
 "cells": [
  {
   "cell_type": "markdown",
   "metadata": {},
   "source": [
    "### Heroes Of Pymoli Data Analysis\n",
    "* Of the 1163 active players, the vast majority are male (84%). There also exists, a smaller, but notable proportion of female players (14%).\n",
    "\n",
    "* Our peak age demographic falls between 20-24 (44.8%) with secondary groups falling between 15-19 (18.60%) and 25-29 (13.4%).  \n",
    "-----"
   ]
  },
  {
   "cell_type": "markdown",
   "metadata": {},
   "source": [
    "### Note\n",
    "* Instructions have been included for each segment. You do not have to follow them exactly, but they are included to help you think through the steps."
   ]
  },
  {
   "cell_type": "code",
   "execution_count": 1,
   "metadata": {},
   "outputs": [],
   "source": [
    "# Dependencies and Setup\n",
    "import pandas as pd\n",
    "import numpy as np\n",
    "# File to Load (Remember to Change These)\n",
    "file_to_load = \"Resources/purchase_data.csv\"\n",
    "\n",
    "# Read Purchasing File and store into Pandas data frame\n",
    "purchase_data = pd.read_csv(file_to_load)"
   ]
  },
  {
   "cell_type": "markdown",
   "metadata": {},
   "source": [
    "## Player Count"
   ]
  },
  {
   "cell_type": "markdown",
   "metadata": {},
   "source": [
    "* Display the total number of players\n"
   ]
  },
  {
   "cell_type": "code",
   "execution_count": 2,
   "metadata": {},
   "outputs": [
    {
     "data": {
      "text/html": [
       "<div>\n",
       "<style scoped>\n",
       "    .dataframe tbody tr th:only-of-type {\n",
       "        vertical-align: middle;\n",
       "    }\n",
       "\n",
       "    .dataframe tbody tr th {\n",
       "        vertical-align: top;\n",
       "    }\n",
       "\n",
       "    .dataframe thead th {\n",
       "        text-align: right;\n",
       "    }\n",
       "</style>\n",
       "<table border=\"1\" class=\"dataframe\">\n",
       "  <thead>\n",
       "    <tr style=\"text-align: right;\">\n",
       "      <th></th>\n",
       "      <th>Total Players</th>\n",
       "    </tr>\n",
       "  </thead>\n",
       "  <tbody>\n",
       "    <tr>\n",
       "      <td>0</td>\n",
       "      <td>576</td>\n",
       "    </tr>\n",
       "  </tbody>\n",
       "</table>\n",
       "</div>"
      ],
      "text/plain": [
       "   Total Players\n",
       "0            576"
      ]
     },
     "execution_count": 2,
     "metadata": {},
     "output_type": "execute_result"
    }
   ],
   "source": [
    "#Count total players\n",
    "total_players= purchase_data[\"SN\"].nunique()\n",
    "#Create a DataFrame for total players\n",
    "player_count = pd.DataFrame({\"Total Players\": [total_players] })\n",
    "#Display total players DataFrame\n",
    "player_count\n"
   ]
  },
  {
   "cell_type": "markdown",
   "metadata": {},
   "source": [
    "## Purchasing Analysis (Total)"
   ]
  },
  {
   "cell_type": "markdown",
   "metadata": {},
   "source": [
    "* Run basic calculations to obtain number of unique items, average price, etc.\n",
    "\n",
    "\n",
    "* Create a summary data frame to hold the results\n",
    "\n",
    "\n",
    "* Optional: give the displayed data cleaner formatting\n",
    "\n",
    "\n",
    "* Display the summary data frame\n"
   ]
  },
  {
   "cell_type": "code",
   "execution_count": 3,
   "metadata": {
    "scrolled": true
   },
   "outputs": [
    {
     "data": {
      "text/html": [
       "<style  type=\"text/css\" >\n",
       "</style><table id=\"T_5b943c4c_ce86_11e9_a33d_5435301f9482\" ><thead>    <tr>        <th class=\"blank level0\" ></th>        <th class=\"col_heading level0 col0\" >Number of Unique Items</th>        <th class=\"col_heading level0 col1\" >Average Price</th>        <th class=\"col_heading level0 col2\" >Number of Purchases</th>        <th class=\"col_heading level0 col3\" >Total Revenue</th>    </tr></thead><tbody>\n",
       "                <tr>\n",
       "                        <th id=\"T_5b943c4c_ce86_11e9_a33d_5435301f9482level0_row0\" class=\"row_heading level0 row0\" >0</th>\n",
       "                        <td id=\"T_5b943c4c_ce86_11e9_a33d_5435301f9482row0_col0\" class=\"data row0 col0\" >183</td>\n",
       "                        <td id=\"T_5b943c4c_ce86_11e9_a33d_5435301f9482row0_col1\" class=\"data row0 col1\" >$3.05</td>\n",
       "                        <td id=\"T_5b943c4c_ce86_11e9_a33d_5435301f9482row0_col2\" class=\"data row0 col2\" >780</td>\n",
       "                        <td id=\"T_5b943c4c_ce86_11e9_a33d_5435301f9482row0_col3\" class=\"data row0 col3\" >$2,379.77</td>\n",
       "            </tr>\n",
       "    </tbody></table>"
      ],
      "text/plain": [
       "<pandas.io.formats.style.Styler at 0xceab3b0>"
      ]
     },
     "execution_count": 3,
     "metadata": {},
     "output_type": "execute_result"
    }
   ],
   "source": [
    "\n",
    "count_items = purchase_data[\"Item ID\"].nunique()\n",
    "avg_price = purchase_data[\"Price\"].mean()\n",
    "count_purchases = purchase_data[\"Purchase ID\"].count()\n",
    "total_revenue = purchase_data[\"Price\"].sum()\n",
    "summary_df = pd.DataFrame({\"Number of Unique Items\": [count_items],\n",
    "                           \"Average Price\": [avg_price],\n",
    "                           \"Number of Purchases\": [count_purchases],\n",
    "                           \"Total Revenue\": [total_revenue]})\n",
    "summary_df.style.format({\"Average Price\": \"${:,.2f}\", \"Total Revenue\": \"${:,.2f}\"})\n"
   ]
  },
  {
   "cell_type": "markdown",
   "metadata": {},
   "source": [
    "## Gender Demographics"
   ]
  },
  {
   "cell_type": "markdown",
   "metadata": {},
   "source": [
    "* Percentage and Count of Male Players\n",
    "\n",
    "\n",
    "* Percentage and Count of Female Players\n",
    "\n",
    "\n",
    "* Percentage and Count of Other / Non-Disclosed\n",
    "\n",
    "\n"
   ]
  },
  {
   "cell_type": "code",
   "execution_count": 13,
   "metadata": {},
   "outputs": [
    {
     "ename": "AttributeError",
     "evalue": "'Styler' object has no attribute 'sort_values'",
     "output_type": "error",
     "traceback": [
      "\u001b[1;31m---------------------------------------------------------------------------\u001b[0m",
      "\u001b[1;31mAttributeError\u001b[0m                            Traceback (most recent call last)",
      "\u001b[1;32m<ipython-input-13-63270c894ed7>\u001b[0m in \u001b[0;36m<module>\u001b[1;34m\u001b[0m\n\u001b[0;32m      7\u001b[0m \u001b[0msummary_gendergrp\u001b[0m \u001b[1;33m=\u001b[0m \u001b[0msummary_gendergrp\u001b[0m\u001b[1;33m.\u001b[0m\u001b[0mstyle\u001b[0m\u001b[1;33m.\u001b[0m\u001b[0mformat\u001b[0m\u001b[1;33m(\u001b[0m\u001b[1;33m{\u001b[0m\u001b[1;34m\"Percentage of Players\"\u001b[0m\u001b[1;33m:\u001b[0m \u001b[1;34m\"{:.2f}\"\u001b[0m\u001b[1;33m}\u001b[0m\u001b[1;33m)\u001b[0m\u001b[1;33m\u001b[0m\u001b[1;33m\u001b[0m\u001b[0m\n\u001b[0;32m      8\u001b[0m \u001b[1;33m\u001b[0m\u001b[0m\n\u001b[1;32m----> 9\u001b[1;33m \u001b[0msummary_gendergrp\u001b[0m \u001b[1;33m=\u001b[0m \u001b[0msummary_gendergrp\u001b[0m\u001b[1;33m.\u001b[0m\u001b[0msort_values\u001b[0m\u001b[1;33m(\u001b[0m\u001b[1;33m[\u001b[0m\u001b[1;34m\"Total Count\"\u001b[0m\u001b[1;33m]\u001b[0m\u001b[1;33m,\u001b[0m\u001b[0mascending\u001b[0m\u001b[1;33m=\u001b[0m\u001b[1;32mFalse\u001b[0m\u001b[1;33m)\u001b[0m\u001b[1;33m\u001b[0m\u001b[1;33m\u001b[0m\u001b[0m\n\u001b[0m",
      "\u001b[1;31mAttributeError\u001b[0m: 'Styler' object has no attribute 'sort_values'"
     ]
    }
   ],
   "source": [
    "\n",
    "gendergrp_df = purchase_data.groupby(\"Gender\")\n",
    "count_gendergrp = gendergrp_df[\"SN\"].nunique()\n",
    "percentage_gendergrp = 100 * count_gendergrp/total_players\n",
    "summary_gendergrp = pd.DataFrame({\"Percentage of Players\": percentage_gendergrp,\n",
    "                                  \"Total Count\": count_gendergrp})\n",
    "summary_gendergrp.index.name = None\n",
    "summary_gendergrp = summary_gendergrp.style.format({\"Percentage of Players\": \"{:.2f}\"})\n",
    "\n",
    "summary_gendergrp = summary_gendergrp.sort_values([\"Total Count\"],ascending=False)"
   ]
  },
  {
   "cell_type": "markdown",
   "metadata": {},
   "source": [
    "\n",
    "## Purchasing Analysis (Gender)"
   ]
  },
  {
   "cell_type": "markdown",
   "metadata": {},
   "source": [
    "* Run basic calculations to obtain purchase count, avg. purchase price, avg. purchase total per person etc. by gender\n",
    "\n",
    "\n",
    "\n",
    "\n",
    "* Create a summary data frame to hold the results\n",
    "\n",
    "\n",
    "* Optional: give the displayed data cleaner formatting\n",
    "\n",
    "\n",
    "* Display the summary data frame"
   ]
  },
  {
   "cell_type": "code",
   "execution_count": 5,
   "metadata": {},
   "outputs": [
    {
     "data": {
      "text/html": [
       "<style  type=\"text/css\" >\n",
       "</style><table id=\"T_5b9a4848_ce86_11e9_a622_5435301f9482\" ><thead>    <tr>        <th class=\"blank level0\" ></th>        <th class=\"col_heading level0 col0\" >Purchase Count</th>        <th class=\"col_heading level0 col1\" >Average Purchase Price</th>        <th class=\"col_heading level0 col2\" >Average Purchase Value</th>        <th class=\"col_heading level0 col3\" >Avg Purchase Total per Person</th>    </tr>    <tr>        <th class=\"index_name level0\" >Gender</th>        <th class=\"blank\" ></th>        <th class=\"blank\" ></th>        <th class=\"blank\" ></th>        <th class=\"blank\" ></th>    </tr></thead><tbody>\n",
       "                <tr>\n",
       "                        <th id=\"T_5b9a4848_ce86_11e9_a622_5435301f9482level0_row0\" class=\"row_heading level0 row0\" >Female</th>\n",
       "                        <td id=\"T_5b9a4848_ce86_11e9_a622_5435301f9482row0_col0\" class=\"data row0 col0\" >113</td>\n",
       "                        <td id=\"T_5b9a4848_ce86_11e9_a622_5435301f9482row0_col1\" class=\"data row0 col1\" >$3.20</td>\n",
       "                        <td id=\"T_5b9a4848_ce86_11e9_a622_5435301f9482row0_col2\" class=\"data row0 col2\" >$361.94</td>\n",
       "                        <td id=\"T_5b9a4848_ce86_11e9_a622_5435301f9482row0_col3\" class=\"data row0 col3\" >$4.47</td>\n",
       "            </tr>\n",
       "            <tr>\n",
       "                        <th id=\"T_5b9a4848_ce86_11e9_a622_5435301f9482level0_row1\" class=\"row_heading level0 row1\" >Male</th>\n",
       "                        <td id=\"T_5b9a4848_ce86_11e9_a622_5435301f9482row1_col0\" class=\"data row1 col0\" >652</td>\n",
       "                        <td id=\"T_5b9a4848_ce86_11e9_a622_5435301f9482row1_col1\" class=\"data row1 col1\" >$3.02</td>\n",
       "                        <td id=\"T_5b9a4848_ce86_11e9_a622_5435301f9482row1_col2\" class=\"data row1 col2\" >$1,967.64</td>\n",
       "                        <td id=\"T_5b9a4848_ce86_11e9_a622_5435301f9482row1_col3\" class=\"data row1 col3\" >$4.07</td>\n",
       "            </tr>\n",
       "            <tr>\n",
       "                        <th id=\"T_5b9a4848_ce86_11e9_a622_5435301f9482level0_row2\" class=\"row_heading level0 row2\" >Other / Non-Disclosed</th>\n",
       "                        <td id=\"T_5b9a4848_ce86_11e9_a622_5435301f9482row2_col0\" class=\"data row2 col0\" >15</td>\n",
       "                        <td id=\"T_5b9a4848_ce86_11e9_a622_5435301f9482row2_col1\" class=\"data row2 col1\" >$3.35</td>\n",
       "                        <td id=\"T_5b9a4848_ce86_11e9_a622_5435301f9482row2_col2\" class=\"data row2 col2\" >$50.19</td>\n",
       "                        <td id=\"T_5b9a4848_ce86_11e9_a622_5435301f9482row2_col3\" class=\"data row2 col3\" >$4.56</td>\n",
       "            </tr>\n",
       "    </tbody></table>"
      ],
      "text/plain": [
       "<pandas.io.formats.style.Styler at 0xcf1b710>"
      ]
     },
     "execution_count": 5,
     "metadata": {},
     "output_type": "execute_result"
    }
   ],
   "source": [
    "purchase_count_gendergrp = gendergrp_df[\"Purchase ID\"].count()\n",
    "avg_price_gendergrp = gendergrp_df[\"Price\"].mean()\n",
    "total_price_gendergrp = gendergrp_df[\"Price\"].sum()\n",
    "avg_purchase_per_person = total_price_gendergrp/count_gendergrp\n",
    "purchase_analysis_gendergrp = pd.DataFrame({\"Purchase Count\": purchase_count_gendergrp, \n",
    "                                    \"Average Purchase Price\": avg_price_gendergrp,\n",
    "                                    \"Average Purchase Value\":total_price_gendergrp,\n",
    "                                    \"Avg Purchase Total per Person\": avg_purchase_per_person})\n",
    "\n",
    "# Provide index in top left as \"Gender\"\n",
    "purchase_analysis_gendergrp.index.name = \"Gender\"\n",
    "\n",
    "# Format with currency style\n",
    "purchase_analysis_gendergrp.style.format({\"Average Purchase Value\":\"${:,.2f}\",\n",
    "                                  \"Average Purchase Price\":\"${:,.2f}\",\n",
    "                                  \"Avg Purchase Total per Person\":\"${:,.2f}\"})"
   ]
  },
  {
   "cell_type": "markdown",
   "metadata": {},
   "source": [
    "## Age Demographics"
   ]
  },
  {
   "cell_type": "markdown",
   "metadata": {},
   "source": [
    "* Establish bins for ages\n",
    "\n",
    "\n",
    "* Categorize the existing players using the age bins. Hint: use pd.cut()\n",
    "\n",
    "\n",
    "* Calculate the numbers and percentages by age group\n",
    "\n",
    "\n",
    "* Create a summary data frame to hold the results\n",
    "\n",
    "\n",
    "* Optional: round the percentage column to two decimal points\n",
    "\n",
    "\n",
    "* Display Age Demographics Table\n"
   ]
  },
  {
   "cell_type": "code",
   "execution_count": 6,
   "metadata": {},
   "outputs": [
    {
     "data": {
      "text/html": [
       "<style  type=\"text/css\" >\n",
       "</style><table id=\"T_5b9e40ba_ce86_11e9_9c95_5435301f9482\" ><thead>    <tr>        <th class=\"blank level0\" ></th>        <th class=\"col_heading level0 col0\" >Percentage of Players</th>        <th class=\"col_heading level0 col1\" >Total Count</th>    </tr></thead><tbody>\n",
       "                <tr>\n",
       "                        <th id=\"T_5b9e40ba_ce86_11e9_9c95_5435301f9482level0_row0\" class=\"row_heading level0 row0\" ><10</th>\n",
       "                        <td id=\"T_5b9e40ba_ce86_11e9_9c95_5435301f9482row0_col0\" class=\"data row0 col0\" >2.95</td>\n",
       "                        <td id=\"T_5b9e40ba_ce86_11e9_9c95_5435301f9482row0_col1\" class=\"data row0 col1\" >17</td>\n",
       "            </tr>\n",
       "            <tr>\n",
       "                        <th id=\"T_5b9e40ba_ce86_11e9_9c95_5435301f9482level0_row1\" class=\"row_heading level0 row1\" >10-14</th>\n",
       "                        <td id=\"T_5b9e40ba_ce86_11e9_9c95_5435301f9482row1_col0\" class=\"data row1 col0\" >3.82</td>\n",
       "                        <td id=\"T_5b9e40ba_ce86_11e9_9c95_5435301f9482row1_col1\" class=\"data row1 col1\" >22</td>\n",
       "            </tr>\n",
       "            <tr>\n",
       "                        <th id=\"T_5b9e40ba_ce86_11e9_9c95_5435301f9482level0_row2\" class=\"row_heading level0 row2\" >15-19</th>\n",
       "                        <td id=\"T_5b9e40ba_ce86_11e9_9c95_5435301f9482row2_col0\" class=\"data row2 col0\" >18.58</td>\n",
       "                        <td id=\"T_5b9e40ba_ce86_11e9_9c95_5435301f9482row2_col1\" class=\"data row2 col1\" >107</td>\n",
       "            </tr>\n",
       "            <tr>\n",
       "                        <th id=\"T_5b9e40ba_ce86_11e9_9c95_5435301f9482level0_row3\" class=\"row_heading level0 row3\" >20-24</th>\n",
       "                        <td id=\"T_5b9e40ba_ce86_11e9_9c95_5435301f9482row3_col0\" class=\"data row3 col0\" >44.79</td>\n",
       "                        <td id=\"T_5b9e40ba_ce86_11e9_9c95_5435301f9482row3_col1\" class=\"data row3 col1\" >258</td>\n",
       "            </tr>\n",
       "            <tr>\n",
       "                        <th id=\"T_5b9e40ba_ce86_11e9_9c95_5435301f9482level0_row4\" class=\"row_heading level0 row4\" >25-29</th>\n",
       "                        <td id=\"T_5b9e40ba_ce86_11e9_9c95_5435301f9482row4_col0\" class=\"data row4 col0\" >13.37</td>\n",
       "                        <td id=\"T_5b9e40ba_ce86_11e9_9c95_5435301f9482row4_col1\" class=\"data row4 col1\" >77</td>\n",
       "            </tr>\n",
       "            <tr>\n",
       "                        <th id=\"T_5b9e40ba_ce86_11e9_9c95_5435301f9482level0_row5\" class=\"row_heading level0 row5\" >30-34</th>\n",
       "                        <td id=\"T_5b9e40ba_ce86_11e9_9c95_5435301f9482row5_col0\" class=\"data row5 col0\" >9.03</td>\n",
       "                        <td id=\"T_5b9e40ba_ce86_11e9_9c95_5435301f9482row5_col1\" class=\"data row5 col1\" >52</td>\n",
       "            </tr>\n",
       "            <tr>\n",
       "                        <th id=\"T_5b9e40ba_ce86_11e9_9c95_5435301f9482level0_row6\" class=\"row_heading level0 row6\" >35-39</th>\n",
       "                        <td id=\"T_5b9e40ba_ce86_11e9_9c95_5435301f9482row6_col0\" class=\"data row6 col0\" >5.38</td>\n",
       "                        <td id=\"T_5b9e40ba_ce86_11e9_9c95_5435301f9482row6_col1\" class=\"data row6 col1\" >31</td>\n",
       "            </tr>\n",
       "            <tr>\n",
       "                        <th id=\"T_5b9e40ba_ce86_11e9_9c95_5435301f9482level0_row7\" class=\"row_heading level0 row7\" >40+</th>\n",
       "                        <td id=\"T_5b9e40ba_ce86_11e9_9c95_5435301f9482row7_col0\" class=\"data row7 col0\" >2.08</td>\n",
       "                        <td id=\"T_5b9e40ba_ce86_11e9_9c95_5435301f9482row7_col1\" class=\"data row7 col1\" >12</td>\n",
       "            </tr>\n",
       "    </tbody></table>"
      ],
      "text/plain": [
       "<pandas.io.formats.style.Styler at 0xcf1b7b0>"
      ]
     },
     "execution_count": 6,
     "metadata": {},
     "output_type": "execute_result"
    }
   ],
   "source": [
    "age_bins = [0,9,14,19,24,29,34,39,999]\n",
    "labels = [\"<10\",\"10-14\",\"15-19\",\"20-24\",\"25-29\",\"30-34\",\"35-39\",\"40+\"]\n",
    "\n",
    "purchase_data[\"Age Group\"] = pd.cut(purchase_data[\"Age\"],age_bins, labels = labels)\n",
    "age_group_df = purchase_data.groupby([\"Age Group\"])\n",
    "player_peragegrp = age_group_df[\"SN\"].nunique()\n",
    "per_peragegrp = 100* player_peragegrp/total_players\n",
    "summary_agegrp_df = pd.DataFrame({\"Percentage of Players\": per_peragegrp,\n",
    "                                  \"Total Count\": player_peragegrp})\n",
    "summary_agegrp_df.index.name = None\n",
    "summary_agegrp_df = summary_agegrp_df.style.format({\"Percentage of Players\": \"{:.2f}\"})\n",
    "summary_agegrp_df"
   ]
  },
  {
   "cell_type": "markdown",
   "metadata": {},
   "source": [
    "## Purchasing Analysis (Age)"
   ]
  },
  {
   "cell_type": "markdown",
   "metadata": {},
   "source": [
    "* Bin the purchase_data data frame by age\n",
    "\n",
    "\n",
    "* Run basic calculations to obtain purchase count, avg. purchase price, avg. purchase total per person etc. in the table below\n",
    "\n",
    "\n",
    "* Create a summary data frame to hold the results\n",
    "\n",
    "\n",
    "* Optional: give the displayed data cleaner formatting\n",
    "\n",
    "\n",
    "* Display the summary data frame"
   ]
  },
  {
   "cell_type": "code",
   "execution_count": 7,
   "metadata": {},
   "outputs": [
    {
     "data": {
      "text/html": [
       "<style  type=\"text/css\" >\n",
       "</style><table id=\"T_5ba1a70a_ce86_11e9_986f_5435301f9482\" ><thead>    <tr>        <th class=\"blank level0\" ></th>        <th class=\"col_heading level0 col0\" >Purchase Count</th>        <th class=\"col_heading level0 col1\" >Average Purchase Price</th>        <th class=\"col_heading level0 col2\" >Total Purchase Value</th>        <th class=\"col_heading level0 col3\" >Average Purchase Total per Person</th>    </tr></thead><tbody>\n",
       "                <tr>\n",
       "                        <th id=\"T_5ba1a70a_ce86_11e9_986f_5435301f9482level0_row0\" class=\"row_heading level0 row0\" ><10</th>\n",
       "                        <td id=\"T_5ba1a70a_ce86_11e9_986f_5435301f9482row0_col0\" class=\"data row0 col0\" >23</td>\n",
       "                        <td id=\"T_5ba1a70a_ce86_11e9_986f_5435301f9482row0_col1\" class=\"data row0 col1\" >$3.35</td>\n",
       "                        <td id=\"T_5ba1a70a_ce86_11e9_986f_5435301f9482row0_col2\" class=\"data row0 col2\" >$77.13</td>\n",
       "                        <td id=\"T_5ba1a70a_ce86_11e9_986f_5435301f9482row0_col3\" class=\"data row0 col3\" >$4.54</td>\n",
       "            </tr>\n",
       "            <tr>\n",
       "                        <th id=\"T_5ba1a70a_ce86_11e9_986f_5435301f9482level0_row1\" class=\"row_heading level0 row1\" >10-14</th>\n",
       "                        <td id=\"T_5ba1a70a_ce86_11e9_986f_5435301f9482row1_col0\" class=\"data row1 col0\" >28</td>\n",
       "                        <td id=\"T_5ba1a70a_ce86_11e9_986f_5435301f9482row1_col1\" class=\"data row1 col1\" >$2.96</td>\n",
       "                        <td id=\"T_5ba1a70a_ce86_11e9_986f_5435301f9482row1_col2\" class=\"data row1 col2\" >$82.78</td>\n",
       "                        <td id=\"T_5ba1a70a_ce86_11e9_986f_5435301f9482row1_col3\" class=\"data row1 col3\" >$3.76</td>\n",
       "            </tr>\n",
       "            <tr>\n",
       "                        <th id=\"T_5ba1a70a_ce86_11e9_986f_5435301f9482level0_row2\" class=\"row_heading level0 row2\" >15-19</th>\n",
       "                        <td id=\"T_5ba1a70a_ce86_11e9_986f_5435301f9482row2_col0\" class=\"data row2 col0\" >136</td>\n",
       "                        <td id=\"T_5ba1a70a_ce86_11e9_986f_5435301f9482row2_col1\" class=\"data row2 col1\" >$3.04</td>\n",
       "                        <td id=\"T_5ba1a70a_ce86_11e9_986f_5435301f9482row2_col2\" class=\"data row2 col2\" >$412.89</td>\n",
       "                        <td id=\"T_5ba1a70a_ce86_11e9_986f_5435301f9482row2_col3\" class=\"data row2 col3\" >$3.86</td>\n",
       "            </tr>\n",
       "            <tr>\n",
       "                        <th id=\"T_5ba1a70a_ce86_11e9_986f_5435301f9482level0_row3\" class=\"row_heading level0 row3\" >20-24</th>\n",
       "                        <td id=\"T_5ba1a70a_ce86_11e9_986f_5435301f9482row3_col0\" class=\"data row3 col0\" >365</td>\n",
       "                        <td id=\"T_5ba1a70a_ce86_11e9_986f_5435301f9482row3_col1\" class=\"data row3 col1\" >$3.05</td>\n",
       "                        <td id=\"T_5ba1a70a_ce86_11e9_986f_5435301f9482row3_col2\" class=\"data row3 col2\" >$1,114.06</td>\n",
       "                        <td id=\"T_5ba1a70a_ce86_11e9_986f_5435301f9482row3_col3\" class=\"data row3 col3\" >$4.32</td>\n",
       "            </tr>\n",
       "            <tr>\n",
       "                        <th id=\"T_5ba1a70a_ce86_11e9_986f_5435301f9482level0_row4\" class=\"row_heading level0 row4\" >25-29</th>\n",
       "                        <td id=\"T_5ba1a70a_ce86_11e9_986f_5435301f9482row4_col0\" class=\"data row4 col0\" >101</td>\n",
       "                        <td id=\"T_5ba1a70a_ce86_11e9_986f_5435301f9482row4_col1\" class=\"data row4 col1\" >$2.90</td>\n",
       "                        <td id=\"T_5ba1a70a_ce86_11e9_986f_5435301f9482row4_col2\" class=\"data row4 col2\" >$293.00</td>\n",
       "                        <td id=\"T_5ba1a70a_ce86_11e9_986f_5435301f9482row4_col3\" class=\"data row4 col3\" >$3.81</td>\n",
       "            </tr>\n",
       "            <tr>\n",
       "                        <th id=\"T_5ba1a70a_ce86_11e9_986f_5435301f9482level0_row5\" class=\"row_heading level0 row5\" >30-34</th>\n",
       "                        <td id=\"T_5ba1a70a_ce86_11e9_986f_5435301f9482row5_col0\" class=\"data row5 col0\" >73</td>\n",
       "                        <td id=\"T_5ba1a70a_ce86_11e9_986f_5435301f9482row5_col1\" class=\"data row5 col1\" >$2.93</td>\n",
       "                        <td id=\"T_5ba1a70a_ce86_11e9_986f_5435301f9482row5_col2\" class=\"data row5 col2\" >$214.00</td>\n",
       "                        <td id=\"T_5ba1a70a_ce86_11e9_986f_5435301f9482row5_col3\" class=\"data row5 col3\" >$4.12</td>\n",
       "            </tr>\n",
       "            <tr>\n",
       "                        <th id=\"T_5ba1a70a_ce86_11e9_986f_5435301f9482level0_row6\" class=\"row_heading level0 row6\" >35-39</th>\n",
       "                        <td id=\"T_5ba1a70a_ce86_11e9_986f_5435301f9482row6_col0\" class=\"data row6 col0\" >41</td>\n",
       "                        <td id=\"T_5ba1a70a_ce86_11e9_986f_5435301f9482row6_col1\" class=\"data row6 col1\" >$3.60</td>\n",
       "                        <td id=\"T_5ba1a70a_ce86_11e9_986f_5435301f9482row6_col2\" class=\"data row6 col2\" >$147.67</td>\n",
       "                        <td id=\"T_5ba1a70a_ce86_11e9_986f_5435301f9482row6_col3\" class=\"data row6 col3\" >$4.76</td>\n",
       "            </tr>\n",
       "            <tr>\n",
       "                        <th id=\"T_5ba1a70a_ce86_11e9_986f_5435301f9482level0_row7\" class=\"row_heading level0 row7\" >40+</th>\n",
       "                        <td id=\"T_5ba1a70a_ce86_11e9_986f_5435301f9482row7_col0\" class=\"data row7 col0\" >13</td>\n",
       "                        <td id=\"T_5ba1a70a_ce86_11e9_986f_5435301f9482row7_col1\" class=\"data row7 col1\" >$2.94</td>\n",
       "                        <td id=\"T_5ba1a70a_ce86_11e9_986f_5435301f9482row7_col2\" class=\"data row7 col2\" >$38.24</td>\n",
       "                        <td id=\"T_5ba1a70a_ce86_11e9_986f_5435301f9482row7_col3\" class=\"data row7 col3\" >$3.19</td>\n",
       "            </tr>\n",
       "    </tbody></table>"
      ],
      "text/plain": [
       "<pandas.io.formats.style.Styler at 0xd1cd3b0>"
      ]
     },
     "execution_count": 7,
     "metadata": {},
     "output_type": "execute_result"
    }
   ],
   "source": [
    "purchasecount_peragegrp = age_group_df[\"Purchase ID\"].count()\n",
    "avgprive_peragegrp = age_group_df[\"Price\"].mean()\n",
    "totalprice_peragegrp = age_group_df[\"Price\"].sum()\n",
    "avgprice_perperson = totalprice_peragegrp/player_peragegrp\n",
    "purchase_analysis_agegrp = pd.DataFrame({\"Purchase Count\": purchasecount_peragegrp,\n",
    "                                         \"Average Purchase Price\": avgprive_peragegrp,\n",
    "                                         \"Total Purchase Value\": totalprice_peragegrp,\n",
    "                                         \"Average Purchase Total per Person\":avgprice_perperson})\n",
    "\n",
    "\n",
    "purchase_analysis_agegrp = purchase_analysis_agegrp.style.format({\"Average Purchase Price\":\"${:,.2f}\",\n",
    "                               \"Total Purchase Value\":\"${:,.2f}\",\n",
    "                               \"Average Purchase Total per Person\":\"${:,.2f}\"})\n",
    "purchase_analysis_agegrp"
   ]
  },
  {
   "cell_type": "markdown",
   "metadata": {},
   "source": [
    "## Top Spenders"
   ]
  },
  {
   "cell_type": "markdown",
   "metadata": {},
   "source": [
    "* Run basic calculations to obtain the results in the table below\n",
    "\n",
    "\n",
    "* Create a summary data frame to hold the results\n",
    "\n",
    "\n",
    "* Sort the total purchase value column in descending order\n",
    "\n",
    "\n",
    "* Optional: give the displayed data cleaner formatting\n",
    "\n",
    "\n",
    "* Display a preview of the summary data frame\n",
    "\n"
   ]
  },
  {
   "cell_type": "code",
   "execution_count": 8,
   "metadata": {},
   "outputs": [
    {
     "data": {
      "text/html": [
       "<style  type=\"text/css\" >\n",
       "</style><table id=\"T_5ba5b834_ce86_11e9_9ec4_5435301f9482\" ><thead>    <tr>        <th class=\"blank level0\" ></th>        <th class=\"col_heading level0 col0\" >Purchase Count</th>        <th class=\"col_heading level0 col1\" >Average Purchase Price</th>        <th class=\"col_heading level0 col2\" >Total Purchase Value</th>    </tr>    <tr>        <th class=\"index_name level0\" >SN</th>        <th class=\"blank\" ></th>        <th class=\"blank\" ></th>        <th class=\"blank\" ></th>    </tr></thead><tbody>\n",
       "                <tr>\n",
       "                        <th id=\"T_5ba5b834_ce86_11e9_9ec4_5435301f9482level0_row0\" class=\"row_heading level0 row0\" >Lisosia93</th>\n",
       "                        <td id=\"T_5ba5b834_ce86_11e9_9ec4_5435301f9482row0_col0\" class=\"data row0 col0\" >5</td>\n",
       "                        <td id=\"T_5ba5b834_ce86_11e9_9ec4_5435301f9482row0_col1\" class=\"data row0 col1\" >$3.79</td>\n",
       "                        <td id=\"T_5ba5b834_ce86_11e9_9ec4_5435301f9482row0_col2\" class=\"data row0 col2\" >$18.96</td>\n",
       "            </tr>\n",
       "            <tr>\n",
       "                        <th id=\"T_5ba5b834_ce86_11e9_9ec4_5435301f9482level0_row1\" class=\"row_heading level0 row1\" >Idastidru52</th>\n",
       "                        <td id=\"T_5ba5b834_ce86_11e9_9ec4_5435301f9482row1_col0\" class=\"data row1 col0\" >4</td>\n",
       "                        <td id=\"T_5ba5b834_ce86_11e9_9ec4_5435301f9482row1_col1\" class=\"data row1 col1\" >$3.86</td>\n",
       "                        <td id=\"T_5ba5b834_ce86_11e9_9ec4_5435301f9482row1_col2\" class=\"data row1 col2\" >$15.45</td>\n",
       "            </tr>\n",
       "            <tr>\n",
       "                        <th id=\"T_5ba5b834_ce86_11e9_9ec4_5435301f9482level0_row2\" class=\"row_heading level0 row2\" >Chamjask73</th>\n",
       "                        <td id=\"T_5ba5b834_ce86_11e9_9ec4_5435301f9482row2_col0\" class=\"data row2 col0\" >3</td>\n",
       "                        <td id=\"T_5ba5b834_ce86_11e9_9ec4_5435301f9482row2_col1\" class=\"data row2 col1\" >$4.61</td>\n",
       "                        <td id=\"T_5ba5b834_ce86_11e9_9ec4_5435301f9482row2_col2\" class=\"data row2 col2\" >$13.83</td>\n",
       "            </tr>\n",
       "            <tr>\n",
       "                        <th id=\"T_5ba5b834_ce86_11e9_9ec4_5435301f9482level0_row3\" class=\"row_heading level0 row3\" >Iral74</th>\n",
       "                        <td id=\"T_5ba5b834_ce86_11e9_9ec4_5435301f9482row3_col0\" class=\"data row3 col0\" >4</td>\n",
       "                        <td id=\"T_5ba5b834_ce86_11e9_9ec4_5435301f9482row3_col1\" class=\"data row3 col1\" >$3.40</td>\n",
       "                        <td id=\"T_5ba5b834_ce86_11e9_9ec4_5435301f9482row3_col2\" class=\"data row3 col2\" >$13.62</td>\n",
       "            </tr>\n",
       "            <tr>\n",
       "                        <th id=\"T_5ba5b834_ce86_11e9_9ec4_5435301f9482level0_row4\" class=\"row_heading level0 row4\" >Iskadarya95</th>\n",
       "                        <td id=\"T_5ba5b834_ce86_11e9_9ec4_5435301f9482row4_col0\" class=\"data row4 col0\" >3</td>\n",
       "                        <td id=\"T_5ba5b834_ce86_11e9_9ec4_5435301f9482row4_col1\" class=\"data row4 col1\" >$4.37</td>\n",
       "                        <td id=\"T_5ba5b834_ce86_11e9_9ec4_5435301f9482row4_col2\" class=\"data row4 col2\" >$13.10</td>\n",
       "            </tr>\n",
       "    </tbody></table>"
      ],
      "text/plain": [
       "<pandas.io.formats.style.Styler at 0xd1d0ab0>"
      ]
     },
     "execution_count": 8,
     "metadata": {},
     "output_type": "execute_result"
    }
   ],
   "source": [
    "spender_group = purchase_data.groupby(\"SN\")\n",
    "\n",
    "purchase_count_spender = spender_group[\"Purchase ID\"].count()\n",
    "\n",
    "avg_purchase_price_spender = spender_group[\"Price\"].mean()\n",
    "\n",
    "purchase_total_spender = spender_group[\"Price\"].sum()\n",
    "\n",
    "top_spenders = pd.DataFrame({\"Purchase Count\": purchase_count_spender,\n",
    "                             \"Average Purchase Price\": avg_purchase_price_spender,\n",
    "                             \"Total Purchase Value\":purchase_total_spender})\n",
    "\n",
    "formatted_spenders = top_spenders.sort_values([\"Total Purchase Value\"], ascending=False).head()\n",
    "\n",
    "formatted_spenders.style.format({\"Average Purchase Total\":\"${:,.2f}\",\n",
    "                                 \"Average Purchase Price\":\"${:,.2f}\", \n",
    "                                 \"Total Purchase Value\":\"${:,.2f}\"})"
   ]
  },
  {
   "cell_type": "markdown",
   "metadata": {},
   "source": [
    "## Most Popular Items"
   ]
  },
  {
   "cell_type": "markdown",
   "metadata": {},
   "source": [
    "* Retrieve the Item ID, Item Name, and Item Price columns\n",
    "\n",
    "\n",
    "* Group by Item ID and Item Name. Perform calculations to obtain purchase count, item price, and total purchase value\n",
    "\n",
    "\n",
    "* Create a summary data frame to hold the results\n",
    "\n",
    "\n",
    "* Sort the purchase count column in descending order\n",
    "\n",
    "\n",
    "* Optional: give the displayed data cleaner formatting\n",
    "\n",
    "\n",
    "* Display a preview of the summary data frame\n",
    "\n"
   ]
  },
  {
   "cell_type": "code",
   "execution_count": 9,
   "metadata": {},
   "outputs": [
    {
     "data": {
      "text/html": [
       "<div>\n",
       "<style scoped>\n",
       "    .dataframe tbody tr th:only-of-type {\n",
       "        vertical-align: middle;\n",
       "    }\n",
       "\n",
       "    .dataframe tbody tr th {\n",
       "        vertical-align: top;\n",
       "    }\n",
       "\n",
       "    .dataframe thead th {\n",
       "        text-align: right;\n",
       "    }\n",
       "</style>\n",
       "<table border=\"1\" class=\"dataframe\">\n",
       "  <thead>\n",
       "    <tr style=\"text-align: right;\">\n",
       "      <th></th>\n",
       "      <th></th>\n",
       "      <th>Purchase Count</th>\n",
       "      <th>Item Price</th>\n",
       "      <th>Total Purchase Value</th>\n",
       "    </tr>\n",
       "    <tr>\n",
       "      <th>Item ID</th>\n",
       "      <th>Item Name</th>\n",
       "      <th></th>\n",
       "      <th></th>\n",
       "      <th></th>\n",
       "    </tr>\n",
       "  </thead>\n",
       "  <tbody>\n",
       "    <tr>\n",
       "      <td>178</td>\n",
       "      <td>Oathbreaker, Last Hope of the Breaking Storm</td>\n",
       "      <td>12</td>\n",
       "      <td>4.23</td>\n",
       "      <td>50.76</td>\n",
       "    </tr>\n",
       "    <tr>\n",
       "      <td>145</td>\n",
       "      <td>Fiery Glass Crusader</td>\n",
       "      <td>9</td>\n",
       "      <td>4.58</td>\n",
       "      <td>41.22</td>\n",
       "    </tr>\n",
       "    <tr>\n",
       "      <td>108</td>\n",
       "      <td>Extraction, Quickblade Of Trembling Hands</td>\n",
       "      <td>9</td>\n",
       "      <td>3.53</td>\n",
       "      <td>31.77</td>\n",
       "    </tr>\n",
       "    <tr>\n",
       "      <td>82</td>\n",
       "      <td>Nirvana</td>\n",
       "      <td>9</td>\n",
       "      <td>4.90</td>\n",
       "      <td>44.10</td>\n",
       "    </tr>\n",
       "    <tr>\n",
       "      <td>19</td>\n",
       "      <td>Pursuit, Cudgel of Necromancy</td>\n",
       "      <td>8</td>\n",
       "      <td>1.02</td>\n",
       "      <td>8.16</td>\n",
       "    </tr>\n",
       "  </tbody>\n",
       "</table>\n",
       "</div>"
      ],
      "text/plain": [
       "                                                      Purchase Count  \\\n",
       "Item ID Item Name                                                      \n",
       "178     Oathbreaker, Last Hope of the Breaking Storm              12   \n",
       "145     Fiery Glass Crusader                                       9   \n",
       "108     Extraction, Quickblade Of Trembling Hands                  9   \n",
       "82      Nirvana                                                    9   \n",
       "19      Pursuit, Cudgel of Necromancy                              8   \n",
       "\n",
       "                                                      Item Price  \\\n",
       "Item ID Item Name                                                  \n",
       "178     Oathbreaker, Last Hope of the Breaking Storm        4.23   \n",
       "145     Fiery Glass Crusader                                4.58   \n",
       "108     Extraction, Quickblade Of Trembling Hands           3.53   \n",
       "82      Nirvana                                             4.90   \n",
       "19      Pursuit, Cudgel of Necromancy                       1.02   \n",
       "\n",
       "                                                      Total Purchase Value  \n",
       "Item ID Item Name                                                           \n",
       "178     Oathbreaker, Last Hope of the Breaking Storm                 50.76  \n",
       "145     Fiery Glass Crusader                                         41.22  \n",
       "108     Extraction, Quickblade Of Trembling Hands                    31.77  \n",
       "82      Nirvana                                                      44.10  \n",
       "19      Pursuit, Cudgel of Necromancy                                 8.16  "
      ]
     },
     "execution_count": 9,
     "metadata": {},
     "output_type": "execute_result"
    }
   ],
   "source": [
    "items = purchase_data[[\"Item ID\", \"Item Name\", \"Price\"]]\n",
    "items_grp = items.groupby([\"Item ID\", \"Item Name\"])\n",
    "purchase_count_item = items_grp[\"Price\"].count()\n",
    "\n",
    "purchase_value = (items_grp[\"Price\"].sum()) \n",
    "\n",
    "item_price = purchase_value/purchase_count_item\n",
    "\n",
    "most_popular_items = pd.DataFrame({\"Purchase Count\": purchase_count_item, \n",
    "                                   \"Item Price\": item_price,\n",
    "                                   \"Total Purchase Value\":purchase_value})\n",
    "\n",
    "most_popular_items = most_popular_items.sort_values([\"Purchase Count\"], ascending=False).head()\n",
    "\n",
    "most_popular_items.style.format({\"Item Price\":\"${:,.2f}\",\n",
    "                                \"Total Purchase Value\":\"${:,.2f}\"})\n",
    "most_popular_items"
   ]
  },
  {
   "cell_type": "markdown",
   "metadata": {},
   "source": [
    "## Most Profitable Items"
   ]
  },
  {
   "cell_type": "markdown",
   "metadata": {},
   "source": [
    "* Sort the above table by total purchase value in descending order\n",
    "\n",
    "\n",
    "* Optional: give the displayed data cleaner formatting\n",
    "\n",
    "\n",
    "* Display a preview of the data frame\n",
    "\n"
   ]
  },
  {
   "cell_type": "code",
   "execution_count": 12,
   "metadata": {},
   "outputs": [
    {
     "ename": "AttributeError",
     "evalue": "'Styler' object has no attribute 'style'",
     "output_type": "error",
     "traceback": [
      "\u001b[1;31m---------------------------------------------------------------------------\u001b[0m",
      "\u001b[1;31mAttributeError\u001b[0m                            Traceback (most recent call last)",
      "\u001b[1;32m<ipython-input-12-b347f6fb383a>\u001b[0m in \u001b[0;36m<module>\u001b[1;34m\u001b[0m\n\u001b[1;32m----> 1\u001b[1;33m most_popular_items = most_popular_items.style.format({\"Item Price\":\"${:,.2f}\",\n\u001b[0m\u001b[0;32m      2\u001b[0m                                 \"Total Purchase Value\":\"${:,.2f}\"})\n\u001b[0;32m      3\u001b[0m \u001b[0mmost_popular_items\u001b[0m \u001b[1;33m=\u001b[0m  \u001b[0mmost_popular_items\u001b[0m\u001b[1;33m.\u001b[0m\u001b[0msort_values\u001b[0m\u001b[1;33m(\u001b[0m\u001b[1;33m[\u001b[0m\u001b[1;34m\"Total Purchase Value\"\u001b[0m\u001b[1;33m]\u001b[0m\u001b[1;33m,\u001b[0m\u001b[0mascending\u001b[0m \u001b[1;33m=\u001b[0m \u001b[1;32mFalse\u001b[0m\u001b[1;33m)\u001b[0m\u001b[1;33m\u001b[0m\u001b[1;33m\u001b[0m\u001b[0m\n\u001b[0;32m      4\u001b[0m \u001b[0mmost_popular_items\u001b[0m\u001b[1;33m.\u001b[0m\u001b[0mhead\u001b[0m\u001b[1;33m(\u001b[0m\u001b[1;33m)\u001b[0m\u001b[1;33m\u001b[0m\u001b[1;33m\u001b[0m\u001b[0m\n",
      "\u001b[1;31mAttributeError\u001b[0m: 'Styler' object has no attribute 'style'"
     ]
    }
   ],
   "source": [
    "most_popular_items = most_popular_items.style.format({\"Item Price\":\"${:,.2f}\",\n",
    "                                \"Total Purchase Value\":\"${:,.2f}\"})\n",
    "most_popular_items =  most_popular_items.sort_values([\"Total Purchase Value\"],ascending = False)\n",
    "most_popular_items.head()"
   ]
  },
  {
   "cell_type": "code",
   "execution_count": null,
   "metadata": {},
   "outputs": [],
   "source": []
  }
 ],
 "metadata": {
  "anaconda-cloud": {},
  "kernel_info": {
   "name": "python3"
  },
  "kernelspec": {
   "display_name": "Python 3",
   "language": "python",
   "name": "python3"
  },
  "language_info": {
   "codemirror_mode": {
    "name": "ipython",
    "version": 3
   },
   "file_extension": ".py",
   "mimetype": "text/x-python",
   "name": "python",
   "nbconvert_exporter": "python",
   "pygments_lexer": "ipython3",
   "version": "3.7.4"
  },
  "latex_envs": {
   "LaTeX_envs_menu_present": true,
   "autoclose": false,
   "autocomplete": true,
   "bibliofile": "biblio.bib",
   "cite_by": "apalike",
   "current_citInitial": 1,
   "eqLabelWithNumbers": true,
   "eqNumInitial": 1,
   "hotkeys": {
    "equation": "Ctrl-E",
    "itemize": "Ctrl-I"
   },
   "labels_anchors": false,
   "latex_user_defs": false,
   "report_style_numbering": false,
   "user_envs_cfg": false
  },
  "nteract": {
   "version": "0.2.0"
  }
 },
 "nbformat": 4,
 "nbformat_minor": 2
}
